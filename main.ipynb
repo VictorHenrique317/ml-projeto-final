{
 "cells": [
  {
   "cell_type": "code",
   "execution_count": 261,
   "metadata": {},
   "outputs": [],
   "source": [
    "import pandas as pd\n",
    "from sklearn.model_selection import train_test_split\n",
    "from sklearn.preprocessing import LabelEncoder\n",
    "from sklearn.neural_network import MLPClassifier\n",
    "from sklearn.impute import SimpleImputer\n",
    "import numpy as np\n",
    "from sklearn.metrics import accuracy_score\n",
    "from sklearn.feature_selection import SelectKBest\n",
    "from sklearn.feature_selection import f_classif\n",
    "from sklearn.model_selection import cross_val_score\n",
    "from sklearn.model_selection import KFold\n",
    "from sklearn.metrics import log_loss\n",
    "# %pip install xgboost\n",
    "import matplotlib.pyplot as plt\n",
    "import xgboost as xgb\n",
    "from xgboost import plot_importance\n",
    "import os\n",
    "import shutil\n",
    "from sklearn.preprocessing import StandardScaler\n",
    "from sklearn.ensemble import RandomForestClassifier"
   ]
  },
  {
   "attachments": {},
   "cell_type": "markdown",
   "metadata": {},
   "source": [
    "Defining the features"
   ]
  },
  {
   "cell_type": "code",
   "execution_count": 262,
   "metadata": {},
   "outputs": [
    {
     "name": "stdout",
     "output_type": "stream",
     "text": [
      "(625, 175)\n",
      "(625, 137)\n",
      "(625, 312)\n"
     ]
    }
   ],
   "source": [
    "data = pd.read_csv('data.csv')\n",
    "\n",
    "X_questions = data.iloc[:, 2:182]\n",
    "X_questions = X_questions.drop('date_visit', axis=1) # Data não é relevante\n",
    "X_questions = X_questions.drop(X_questions.columns[[46, 133, 158, 161]], axis=1) # Essas colunas são constantes\n",
    "\n",
    "X_drugs = data.iloc[:, 185:]\n",
    "X_drugs = X_drugs.drop(X_drugs.columns[[50,51,61,92,101,111,114,121,137,140,141,142,143,148,151,152]], axis=1) # Essas colunas são constantes\n",
    "\n",
    "X_random = np.random.rand(X_questions.shape[0], 1)\n",
    "\n",
    "X = np.concatenate((X_questions, X_drugs), axis=1)\n",
    "X = pd.DataFrame(X)\n",
    "\n",
    "# print(X_questions.iloc[:2, 3:4])\n",
    "# print(X_questions.iloc[:2, 4:5])\n",
    "# print(X_questions.iloc[:2, 79:80])\n",
    "print(X_questions.shape)\n",
    "print(X_drugs.shape)\n",
    "print(X.shape)"
   ]
  },
  {
   "attachments": {},
   "cell_type": "markdown",
   "metadata": {},
   "source": [
    "Defining the target"
   ]
  },
  {
   "cell_type": "code",
   "execution_count": 263,
   "metadata": {},
   "outputs": [
    {
     "name": "stdout",
     "output_type": "stream",
     "text": [
      "(183, 175)\n",
      "(183, 137)\n",
      "(183, 312)\n",
      "(183,)\n",
      "The percentage of ones inside y_gic is 57.92%\n",
      "The percentage of ones inside y_vas30 is 67.21%\n",
      "The percentage of ones inside y_vas50 is 56.83%\n",
      "\n",
      "The percentage of ones inside y_perceived is 67.21%\n",
      "The percentage of ones inside y is 51.37%\n"
     ]
    }
   ],
   "source": [
    "Y = data.iloc[:, 182:185]\n",
    "\n",
    "y_vas30 = Y.iloc[:, 0:1].values.ravel()\n",
    "y_vas50 = Y.iloc[:, 1:2].values.ravel()\n",
    "y_gic = Y.iloc[:, 2:3].values.ravel()\n",
    "\n",
    "y_perceived = np.logical_or(y_vas30, y_vas50) # Perceived improvement by the patient is defined as either VAS30 or VAS50\n",
    "y_perceived = y_perceived.astype(int)\n",
    "\n",
    "# The target is defined as the intersection of perceived improvement and GIC,\n",
    "# this is because the patient must perceive improvement and the doctor must agree\n",
    "y = np.logical_and(y_perceived, y_gic)\n",
    "y = y.astype(int)\n",
    "y = pd.DataFrame(y)\n",
    "\n",
    "# Find the indices of the rows with all 0's\n",
    "zero_rows = y.index[(y == 0).all(axis=1)]\n",
    "# Randomly select 50% of these indices\n",
    "delete_rows = np.random.choice(zero_rows, size=int(len(zero_rows)/1.2), replace=False)\n",
    "\n",
    "# Drop the selected rows\n",
    "X = X.drop(delete_rows)\n",
    "X_drugs = X_drugs.drop(delete_rows)\n",
    "X_questions = X_questions.drop(delete_rows)\n",
    "X_random = np.delete(X_random, delete_rows, axis=0)\n",
    "\n",
    "y = np.delete(y, delete_rows)\n",
    "y_gic = np.delete(y_gic, delete_rows)\n",
    "y_vas30 = np.delete(y_vas30, delete_rows)\n",
    "y_vas50 = np.delete(y_vas50, delete_rows)\n",
    "y_perceived = np.delete(y_perceived, delete_rows)\n",
    "\n",
    "print(X_questions.shape)\n",
    "print(X_drugs.shape)\n",
    "print(X.shape)\n",
    "print(y.shape)\n",
    "\n",
    "print(f\"The percentage of ones inside y_gic is {(np.sum(y_gic)/y_gic.shape[0])*100:.2f}%\")\n",
    "print(f\"The percentage of ones inside y_vas30 is {(np.sum(y_vas30)/y_vas30.shape[0])*100:.2f}%\")\n",
    "print(f\"The percentage of ones inside y_vas50 is {(np.sum(y_vas50)/y_vas50.shape[0])*100:.2f}%\")\n",
    "print()\n",
    "print(f\"The percentage of ones inside y_perceived is {(np.sum(y_perceived)/y_perceived.shape[0])*100:.2f}%\")\n",
    "print(f\"The percentage of ones inside y is {(np.sum(y)/y.shape[0])*100:.2f}%\")\n",
    "# Faz sentido a porcentagem de 1's ser baixa em y, pois como dito em nossa reunião a maior parte\n",
    "# dos pacientes que sofrem com dor crônica não apresentam melhora.\n"
   ]
  },
  {
   "cell_type": "code",
   "execution_count": 264,
   "metadata": {},
   "outputs": [
    {
     "name": "stdout",
     "output_type": "stream",
     "text": [
      "The similarity percentage between y_gic and y_vas50 is 70.49%\n",
      "The similarity percentage between y_gic and y_vas30 is 77.60%\n",
      "The similarity percentage between y_gic and y_perceived is 77.60%\n"
     ]
    }
   ],
   "source": [
    "similarity_vas50 = accuracy_score(y_gic, y_vas50) # y_gic is 'true', how similar is y_vas50 to it?\n",
    "similarity_vas50 *= 100\n",
    "print(f\"The similarity percentage between y_gic and y_vas50 is {similarity_vas50:.2f}%\")\n",
    "\n",
    "similarity_vas30 = accuracy_score(y_gic, y_vas30) # y_gic is 'true', how similar is y_vas30 to it?\n",
    "similarity_vas30 *= 100\n",
    "print(f\"The similarity percentage between y_gic and y_vas30 is {similarity_vas30:.2f}%\")\n",
    "\n",
    "similarity_perceived = accuracy_score(y_gic, y_perceived) # y_gic is 'true', how similar is y_perceived to it?\n",
    "similarity_perceived *= 100\n",
    "print(f\"The similarity percentage between y_gic and y_perceived is {similarity_perceived:.2f}%\")"
   ]
  },
  {
   "cell_type": "code",
   "execution_count": 265,
   "metadata": {},
   "outputs": [
    {
     "name": "stdout",
     "output_type": "stream",
     "text": [
      "The similarity percentage between y and y_gic is 93.44%\n",
      "The similarity percentage between y and y_vas50 is 77.05%\n",
      "The similarity percentage between y and y_vas30 is 84.15%\n",
      "The similarity percentage between y and y_perceived is 84.15%\n"
     ]
    }
   ],
   "source": [
    "similarity_gic = accuracy_score(y, y_gic) # y is 'true', how similar is y_gic to it?\n",
    "similarity_gic *= 100\n",
    "print(f\"The similarity percentage between y and y_gic is {similarity_gic:.2f}%\")\n",
    "\n",
    "similarity_vas50 = accuracy_score(y, y_vas50) # y is 'true', how similar is y_vas50 to it?\n",
    "similarity_vas50 *= 100\n",
    "print(f\"The similarity percentage between y and y_vas50 is {similarity_vas50:.2f}%\")\n",
    "\n",
    "similarity_vas30 = accuracy_score(y, y_vas30) # y is 'true', how similar is y_vas30 to it?\n",
    "similarity_vas30 *= 100\n",
    "print(f\"The similarity percentage between y and y_vas30 is {similarity_vas30:.2f}%\")\n",
    "\n",
    "similarity_perceived = accuracy_score(y, y_perceived) # y is 'true', how similar is y_perceived to it?\n",
    "similarity_perceived *= 100\n",
    "print(f\"The similarity percentage between y and y_perceived is {similarity_perceived:.2f}%\")"
   ]
  },
  {
   "attachments": {},
   "cell_type": "markdown",
   "metadata": {},
   "source": [
    "Encoding the Boolean variables"
   ]
  },
  {
   "cell_type": "code",
   "execution_count": 266,
   "metadata": {},
   "outputs": [],
   "source": [
    "le = LabelEncoder()\n",
    "for col in X_questions.columns:\n",
    "    if X_questions[col].dtype == 'bool':\n",
    "        X_questions[col] = le.fit_transform(X_questions[col])\n",
    "\n",
    "for col in X_drugs.columns:\n",
    "    if X_drugs[col].dtype == 'bool':\n",
    "        X_drugs[col] = le.fit_transform(X_drugs[col])\n",
    "\n",
    "for col in X.columns:\n",
    "    if X[col].dtype == 'bool':\n",
    "        X[col] = le.fit_transform(X[col])"
   ]
  },
  {
   "attachments": {},
   "cell_type": "markdown",
   "metadata": {},
   "source": [
    "Imputing missing values"
   ]
  },
  {
   "cell_type": "code",
   "execution_count": 267,
   "metadata": {},
   "outputs": [],
   "source": [
    "imp = SimpleImputer(strategy='mean')\n",
    "imp.fit(X_questions)\n",
    "X_questions = imp.transform(X_questions)\n",
    "\n",
    "imp = SimpleImputer(strategy='mean')\n",
    "imp.fit(X_drugs)\n",
    "X_drugs = imp.transform(X_drugs)\n",
    "\n",
    "imp = SimpleImputer(strategy='mean')\n",
    "imp.fit(X)\n",
    "X = imp.transform(X)"
   ]
  },
  {
   "attachments": {},
   "cell_type": "markdown",
   "metadata": {},
   "source": [
    "Normalizing features"
   ]
  },
  {
   "cell_type": "code",
   "execution_count": 268,
   "metadata": {},
   "outputs": [],
   "source": [
    "scaler = StandardScaler()\n",
    "X = scaler.fit_transform(X)\n",
    "X_drugs = scaler.fit_transform(X_drugs)\n",
    "X_questions = scaler.fit_transform(X_questions)\n",
    "X_random = scaler.fit_transform(X_random)"
   ]
  },
  {
   "cell_type": "code",
   "execution_count": 270,
   "metadata": {},
   "outputs": [],
   "source": [
    "def trainClassifier(X, y, clf, print_accuracy=False):\n",
    "    kf = KFold(n_splits=5)\n",
    "    empirical_losses = []\n",
    "    test_losses = []\n",
    "    empirical_accuracies = []\n",
    "    test_accuracies = []\n",
    "\n",
    "    for train_indices, test_indicies in kf.split(X):\n",
    "        X_train, X_test = X[train_indices], X[test_indicies]\n",
    "        y_train, y_test = y[train_indices], y[test_indicies]\n",
    "        \n",
    "        clf.fit(X_train, y_train) # classificador generico\n",
    "\n",
    "        empirical_loss = log_loss(y_train, clf.predict(X_train))\n",
    "        test_loss = log_loss(y_test, clf.predict(X_test))\n",
    "\n",
    "        empirical_accuracy = clf.score(X_train, y_train)\n",
    "        test_accuracy = clf.score(X_test, y_test)\n",
    "\n",
    "        empirical_losses.append(empirical_loss)\n",
    "        test_losses.append(test_loss)\n",
    "\n",
    "        empirical_accuracies.append(empirical_accuracy)\n",
    "        test_accuracies.append(test_accuracy)\n",
    "\n",
    "    empirical_loss = np.mean(empirical_losses)\n",
    "    test_loss = np.mean(test_losses)\n",
    "\n",
    "    empirical_accuracy = np.mean(empirical_accuracies) * 100\n",
    "    test_accuracy = np.mean(test_accuracies) * 100\n",
    "\n",
    "    if print_accuracy:\n",
    "        print(f\"empirical_accuracy: {empirical_accuracy: .2f}% | test_accuracy: {test_accuracy: .2f}% \")\n",
    "\n",
    "    return (empirical_loss, test_loss)\n",
    "\n",
    "def trainXGBBoostingClassifier(X, y, max_depth=0, gamma=0.0, print_accuracy=False, print_importance=False):\n",
    "    clf = xgb.XGBClassifier(max_depth=max_depth,  gamma=gamma, eta=0.01, min_child_weight=1, subsample=0.8, \n",
    "                            colsample_bytree=0.8, scale_pos_weight=1)\n",
    "    \n",
    "    if print_importance:\n",
    "        clf.fit(X, y)\n",
    "        feat_imp = pd.Series(clf.get_booster().get_fscore())\n",
    "        feat_imp.index = pd.Index(feat_imp.index)\n",
    "        feat_imp.sort_values(ascending=False, inplace=True)\n",
    "        feat_imp.plot(kind='bar', title='Feature Importances', width=0.8, figsize=(20,10))\n",
    "        plt.ylabel('Feature Importance Score')\n",
    "        \n",
    "    return trainClassifier(X, y, clf, print_accuracy)\n",
    "\n",
    "def trainMLPClassifier(X, y, hidden_layer_size=0, print_accuracy=False):\n",
    "    clf = MLPClassifier(hidden_layer_sizes=(hidden_layer_size,), solver='sgd', learning_rate_init=0.01,\n",
    "                        max_iter=2000, verbose=False)\n",
    "    return trainClassifier(X, y, clf, print_accuracy)\n",
    "\n",
    "def trainRandomForestClassifier(X, y, max_depth=0, print_accuracy=False):\n",
    "    clf =clf = RandomForestClassifier(n_estimators=1000, max_depth=max_depth)\n",
    "    return trainClassifier(X, y, clf, print_accuracy)"
   ]
  },
  {
   "cell_type": "code",
   "execution_count": 247,
   "metadata": {},
   "outputs": [],
   "source": [
    "def createPlotDir(alg_name):\n",
    "    if not os.path.exists(f\"plots\"):\n",
    "        os.mkdir(f\"plots\")\n",
    "\n",
    "    if not os.path.exists(f\"plots/{alg_name}\"):\n",
    "        os.mkdir(f\"plots/{alg_name}/\")\n",
    "\n",
    "def savePlot(data, alg_name, filename):\n",
    "    x = sorted(data.keys())\n",
    "    empirical_losses = [data[key][0] for key in x]\n",
    "    test_losses = [data[key][1] for key in x]\n",
    "\n",
    "    legend = ['test loss', 'empirical loss']\n",
    "    plt.ylim((0,30))\n",
    "    plt.grid()\n",
    "    plt.plot(x, test_losses, color='blue', linestyle='dashed')\n",
    "    plt.plot(x, empirical_losses, color='blue')\n",
    "    plt.legend(legend)\n",
    "\n",
    "    plt.savefig(f'plots/{alg_name}/{filename}.png')\n",
    "    plt.clf() "
   ]
  },
  {
   "cell_type": "code",
   "execution_count": 147,
   "metadata": {},
   "outputs": [
    {
     "name": "stdout",
     "output_type": "stream",
     "text": [
      "95.50%...\r"
     ]
    },
    {
     "data": {
      "text/plain": [
       "<Figure size 640x480 with 0 Axes>"
      ]
     },
     "metadata": {},
     "output_type": "display_data"
    }
   ],
   "source": [
    "def plotCapacityGraphsForMLP(X, y, filename, max_neuron_nb):\n",
    "    createPlotDir('mlp')\n",
    "\n",
    "    data = dict()\n",
    "    for neuron_nb in range(1, max_neuron_nb+1, 10):\n",
    "        print(f\"{(neuron_nb/max_neuron_nb)*100:.2f}%...\", end=\"\\r\")\n",
    "        (empirical_loss, test_loss) = trainMLPClassifier(X, y, hidden_layer_size=neuron_nb)\n",
    "        data[neuron_nb] = (empirical_loss, test_loss)\n",
    "   \n",
    "    savePlot(data, 'mlp', filename)\n",
    "\n",
    "max_neuron_nb = 200\n",
    "plotCapacityGraphsForMLP(X, y, \"x\", max_neuron_nb)\n",
    "plotCapacityGraphsForMLP(X_questions, y, \"x_questions\", max_neuron_nb)\n",
    "plotCapacityGraphsForMLP(X_drugs, y, \"x_drugs\", max_neuron_nb)\n",
    "plotCapacityGraphsForMLP(X_random, y, \"x_random\", max_neuron_nb)"
   ]
  },
  {
   "cell_type": "code",
   "execution_count": 146,
   "metadata": {},
   "outputs": [
    {
     "name": "stdout",
     "output_type": "stream",
     "text": [
      "100.00%...\r"
     ]
    },
    {
     "data": {
      "text/plain": [
       "<Figure size 640x480 with 0 Axes>"
      ]
     },
     "metadata": {},
     "output_type": "display_data"
    }
   ],
   "source": [
    "def plotCapacityGraphsForXGBoost(X, y, filename, max_depth, print_accuracy=False):\n",
    "    gamma = 0\n",
    "    createPlotDir('xgboost')\n",
    "\n",
    "    data = dict()\n",
    "    for depth in range(1, max_depth+1):\n",
    "        print(f\"{(depth/max_depth)*100:.2f}%...\", end=\"\\r\")\n",
    "        (empirical_loss, test_loss) = trainXGBBoostingClassifier(X, y, max_depth=depth, gamma=gamma, print_accuracy=print_accuracy)\n",
    "        data[depth] = (empirical_loss, test_loss)\n",
    "   \n",
    "    savePlot(data, 'xgboost', filename)\n",
    "\n",
    "max_depth = 10\n",
    "plotCapacityGraphsForXGBoost(X, y, \"x\", max_depth) # Adicionar X_drugs parece não ter efeito\n",
    "plotCapacityGraphsForXGBoost(X_questions, y, \"x_questions\", max_depth, print_accuracy=False) # Resultado diferente do aleatorio mas ainda sim\n",
    "plotCapacityGraphsForXGBoost(X_drugs, y_gic, \"x_drugs\", max_depth) # X_drugs parece ter nenhum poder preditivo\n",
    "plotCapacityGraphsForXGBoost(X_random, y, \"x_random\", max_depth, print_accuracy=False)"
   ]
  },
  {
   "cell_type": "code",
   "execution_count": 271,
   "metadata": {},
   "outputs": [
    {
     "name": "stdout",
     "output_type": "stream",
     "text": [
      "empirical_accuracy:  86.06% | test_accuracy:  64.95% \n",
      "empirical_accuracy:  71.17% | test_accuracy:  52.40% \n"
     ]
    },
    {
     "data": {
      "text/plain": [
       "(10.390554632302106, 17.15591309962483)"
      ]
     },
     "execution_count": 271,
     "metadata": {},
     "output_type": "execute_result"
    },
    {
     "data": {
      "image/png": "[encoded data removed]",
      "text/plain": [
       "<Figure size 2000x1000 with 1 Axes>"
      ]
     },
     "metadata": {},
     "output_type": "display_data"
    }
   ],
   "source": [
    "trainXGBBoostingClassifier(X, y, max_depth=3, gamma=0.7, print_accuracy=True, print_importance=True)\n",
    "trainXGBBoostingClassifier(X_random, y, max_depth=3, gamma=0.7, print_accuracy=True)"
   ]
  },
  {
   "cell_type": "code",
   "execution_count": 163,
   "metadata": {},
   "outputs": [
    {
     "name": "stdout",
     "output_type": "stream",
     "text": [
      "100.00%...\r"
     ]
    },
    {
     "data": {
      "text/plain": [
       "<Figure size 640x480 with 0 Axes>"
      ]
     },
     "metadata": {},
     "output_type": "display_data"
    }
   ],
   "source": [
    "def plotCapacityGraphsForRandomForest(X, y, filename, max_depth):\n",
    "    gamma = 0\n",
    "    createPlotDir('random_forest')\n",
    "\n",
    "    data = dict()\n",
    "    for depth in range(1, max_depth+1):\n",
    "        print(f\"{(depth/max_depth)*100:.2f}%...\", end=\"\\r\")\n",
    "        (empirical_loss, test_loss) = trainRandomForestClassifier(X, y, max_depth=depth)\n",
    "        data[depth] = (empirical_loss, test_loss)\n",
    "   \n",
    "    savePlot(data, 'random_forest', filename)\n",
    "\n",
    "max_depth = 20\n",
    "plotCapacityGraphsForRandomForest(X, y, \"x\", max_depth)\n",
    "plotCapacityGraphsForRandomForest(X_questions, y, \"x_questions\", max_depth)\n",
    "plotCapacityGraphsForRandomForest(X_drugs, y, \"x_drugs\", max_depth)\n",
    "plotCapacityGraphsForRandomForest(X_random, y, \"x_random\", max_depth)"
   ]
  },
  {
   "cell_type": "code",
   "execution_count": 166,
   "metadata": {},
   "outputs": [
    {
     "name": "stdout",
     "output_type": "stream",
     "text": [
      "empirical_accuracy:  80.87% | test_accuracy:  62.82% \n",
      "empirical_accuracy:  71.45% | test_accuracy:  49.20% \n"
     ]
    },
    {
     "data": {
      "text/plain": [
       "(10.290461363175678, 18.308660572880378)"
      ]
     },
     "execution_count": 166,
     "metadata": {},
     "output_type": "execute_result"
    }
   ],
   "source": [
    "trainRandomForestClassifier(X, y, max_depth=3, print_accuracy=True)\n",
    "trainRandomForestClassifier(X_random, y, max_depth=3, print_accuracy=True)"
   ]
  }
 ],
 "metadata": {
  "kernelspec": {
   "display_name": "Python 3",
   "language": "python",
   "name": "python3"
  },
  "language_info": {
   "codemirror_mode": {
    "name": "ipython",
    "version": 3
   },
   "file_extension": ".py",
   "mimetype": "text/x-python",
   "name": "python",
   "nbconvert_exporter": "python",
   "pygments_lexer": "ipython3",
   "version": "3.11.0"
  },
  "orig_nbformat": 4
 },
 "nbformat": 4,
 "nbformat_minor": 2
}
