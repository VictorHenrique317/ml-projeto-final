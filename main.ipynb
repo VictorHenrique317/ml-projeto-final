{
 "cells": [
  {
   "cell_type": "code",
   "execution_count": 89,
   "metadata": {},
   "outputs": [],
   "source": [
    "import pandas as pd\n",
    "from sklearn.model_selection import train_test_split\n",
    "from sklearn.preprocessing import LabelEncoder\n",
    "from sklearn.neural_network import MLPClassifier\n",
    "from sklearn.impute import SimpleImputer\n",
    "import numpy as np\n",
    "from sklearn.metrics import accuracy_score\n",
    "from sklearn.feature_selection import SelectKBest\n",
    "from sklearn.feature_selection import f_classif\n",
    "from sklearn.model_selection import cross_val_score"
   ]
  },
  {
   "attachments": {},
   "cell_type": "markdown",
   "metadata": {},
   "source": [
    "Defining the features"
   ]
  },
  {
   "cell_type": "code",
   "execution_count": 90,
   "metadata": {},
   "outputs": [
    {
     "name": "stdout",
     "output_type": "stream",
     "text": [
      "(625, 175)\n",
      "(625, 137)\n",
      "(625, 312)\n"
     ]
    }
   ],
   "source": [
    "data = pd.read_csv('data.csv')\n",
    "\n",
    "X_questions = data.iloc[:, 2:182]\n",
    "X_questions = X_questions.drop('date_visit', axis=1) # Data não é relevante\n",
    "X_questions = X_questions.drop(X_questions.columns[[46, 133, 158, 161]], axis=1) # Essas colunas são constantes\n",
    "\n",
    "X_drugs = data.iloc[:, 185:]\n",
    "X_drugs = X_drugs.drop(X_drugs.columns[[50,51,61,92,101,111,114,121,137,140,141,142,143,148,151,152]], axis=1) # Essas colunas são constantes\n",
    "\n",
    "\n",
    "X = np.concatenate((X_questions, X_drugs), axis=1)\n",
    "X = pd.DataFrame(X)\n",
    "\n",
    "print(X_questions.shape)\n",
    "print(X_drugs.shape)\n",
    "print(X.shape)"
   ]
  },
  {
   "attachments": {},
   "cell_type": "markdown",
   "metadata": {},
   "source": [
    "Defining the target"
   ]
  },
  {
   "cell_type": "code",
   "execution_count": 91,
   "metadata": {},
   "outputs": [
    {
     "name": "stdout",
     "output_type": "stream",
     "text": [
      "The percentage of ones inside y_gic is 28.96%\n",
      "The percentage of ones inside y_vas30 is 43.84%\n",
      "The percentage of ones inside y_vas50 is 35.84%\n",
      "\n",
      "The percentage of ones inside y_perceived is 43.84%\n",
      "The percentage of ones inside y is 15.04%\n"
     ]
    }
   ],
   "source": [
    "Y = data.iloc[:, 182:185]\n",
    "\n",
    "y_vas30 = Y.iloc[:, 0:1].values.ravel()\n",
    "y_vas50 = Y.iloc[:, 1:2].values.ravel()\n",
    "y_gic = Y.iloc[:, 2:3].values.ravel()\n",
    "\n",
    "y_perceived = np.logical_or(y_vas30, y_vas50) # Perceived improvement by the patient is defined as either VAS30 or VAS50\n",
    "\n",
    "# The target is defined as the intersection of perceived improvement and GIC,\n",
    "# this is because the patient must perceive improvement and the doctor must agree\n",
    "y = np.logical_and(y_perceived, y_gic)\n",
    "\n",
    "print(f\"The percentage of ones inside y_gic is {(np.sum(y_gic)/y_gic.shape[0])*100:.2f}%\")\n",
    "print(f\"The percentage of ones inside y_vas30 is {(np.sum(y_vas30)/y_vas30.shape[0])*100:.2f}%\")\n",
    "print(f\"The percentage of ones inside y_vas50 is {(np.sum(y_vas50)/y_vas50.shape[0])*100:.2f}%\")\n",
    "print()\n",
    "print(f\"The percentage of ones inside y_perceived is {(np.sum(y_perceived)/y_perceived.shape[0])*100:.2f}%\")\n",
    "print(f\"The percentage of ones inside y is {(np.sum(y)/y.shape[0])*100:.2f}%\")\n",
    "# Faz sentido a porcentagem de 1's ser baixa em y, pois como dito em nossa reunião a maior parte\n",
    "# dos pacientes que sofrem com dor crônica não apresentam melhora.\n"
   ]
  },
  {
   "cell_type": "code",
   "execution_count": 92,
   "metadata": {},
   "outputs": [
    {
     "name": "stdout",
     "output_type": "stream",
     "text": [
      "The similarity percentage between y_gic and y_vas50 is 60.16%\n",
      "The similarity percentage between y_gic and y_vas30 is 57.28%\n",
      "The similarity percentage between y_gic and y_perceived is 57.28%\n"
     ]
    }
   ],
   "source": [
    "similarity_vas50 = accuracy_score(y_gic, y_vas50) # y_gic is 'true', how similar is y_vas50 to it?\n",
    "similarity_vas50 *= 100\n",
    "print(f\"The similarity percentage between y_gic and y_vas50 is {similarity_vas50:.2f}%\")\n",
    "\n",
    "similarity_vas30 = accuracy_score(y_gic, y_vas30) # y_gic is 'true', how similar is y_vas30 to it?\n",
    "similarity_vas30 *= 100\n",
    "print(f\"The similarity percentage between y_gic and y_vas30 is {similarity_vas30:.2f}%\")\n",
    "\n",
    "similarity_perceived = accuracy_score(y_gic, y_perceived) # y_gic is 'true', how similar is y_perceived to it?\n",
    "similarity_perceived *= 100\n",
    "print(f\"The similarity percentage between y_gic and y_perceived is {similarity_perceived:.2f}%\")"
   ]
  },
  {
   "cell_type": "code",
   "execution_count": 93,
   "metadata": {},
   "outputs": [
    {
     "name": "stdout",
     "output_type": "stream",
     "text": [
      "The similarity percentage between y and y_gic is 86.08%\n",
      "The similarity percentage between y and y_vas50 is 74.08%\n",
      "The similarity percentage between y and y_vas30 is 71.20%\n",
      "The similarity percentage between y and y_perceived is 71.20%\n"
     ]
    }
   ],
   "source": [
    "similarity_gic = accuracy_score(y, y_gic) # y is 'true', how similar is y_gic to it?\n",
    "similarity_gic *= 100\n",
    "print(f\"The similarity percentage between y and y_gic is {similarity_gic:.2f}%\")\n",
    "\n",
    "similarity_vas50 = accuracy_score(y, y_vas50) # y is 'true', how similar is y_vas50 to it?\n",
    "similarity_vas50 *= 100\n",
    "print(f\"The similarity percentage between y and y_vas50 is {similarity_vas50:.2f}%\")\n",
    "\n",
    "similarity_vas30 = accuracy_score(y, y_vas30) # y is 'true', how similar is y_vas30 to it?\n",
    "similarity_vas30 *= 100\n",
    "print(f\"The similarity percentage between y and y_vas30 is {similarity_vas30:.2f}%\")\n",
    "\n",
    "similarity_perceived = accuracy_score(y, y_perceived) # y is 'true', how similar is y_perceived to it?\n",
    "similarity_perceived *= 100\n",
    "print(f\"The similarity percentage between y and y_perceived is {similarity_perceived:.2f}%\")"
   ]
  },
  {
   "attachments": {},
   "cell_type": "markdown",
   "metadata": {},
   "source": [
    "Encoding the Boolean variables"
   ]
  },
  {
   "cell_type": "code",
   "execution_count": 94,
   "metadata": {},
   "outputs": [],
   "source": [
    "le = LabelEncoder()\n",
    "for col in X_questions.columns:\n",
    "    if X_questions[col].dtype == 'bool':\n",
    "        X_questions[col] = le.fit_transform(X_questions[col])\n",
    "\n",
    "for col in X_drugs.columns:\n",
    "    if X_drugs[col].dtype == 'bool':\n",
    "        X_drugs[col] = le.fit_transform(X_drugs[col])\n",
    "\n",
    "for col in X.columns:\n",
    "    if X[col].dtype == 'bool':\n",
    "        X[col] = le.fit_transform(X[col])"
   ]
  },
  {
   "attachments": {},
   "cell_type": "markdown",
   "metadata": {},
   "source": [
    "Imputing missing values"
   ]
  },
  {
   "cell_type": "code",
   "execution_count": 95,
   "metadata": {},
   "outputs": [],
   "source": [
    "imp = SimpleImputer(strategy='mean')\n",
    "imp.fit(X_questions)\n",
    "X_questions = imp.transform(X_questions)\n",
    "\n",
    "imp = SimpleImputer(strategy='mean')\n",
    "imp.fit(X_drugs)\n",
    "X_drugs = imp.transform(X_drugs)\n",
    "\n",
    "imp = SimpleImputer(strategy='mean')\n",
    "imp.fit(X)\n",
    "X = imp.transform(X)"
   ]
  },
  {
   "cell_type": "code",
   "execution_count": 120,
   "metadata": {},
   "outputs": [],
   "source": [
    "def trainReferenceMLP(X, x_name, y):\n",
    "    X_train, X_test, y_train, y_test = train_test_split(X, y, test_size=0.25, random_state=42)\n",
    "\n",
    "    # 137 is the minimum number of features\n",
    "    clf = MLPClassifier(hidden_layer_sizes=(137,), solver='sgd', learning_rate_init=0.001,\n",
    "                        max_iter=2000, random_state=42, verbose=False)\n",
    "    \n",
    "    # Perform 5-fold cross-validation\n",
    "    scores = cross_val_score(clf, X_train, y_train, cv=5)\n",
    "    mean = scores.mean()\n",
    "    std_deviation = scores.std()\n",
    "    variance = scores.var()\n",
    "\n",
    "    print(f'Cross-validation scores for y using {x_name}: {scores}')\n",
    "    print(f'mean: {mean: .4f}, std_deviation: {std_deviation: .4f}, variance: {variance: .4f}')\n",
    "    print()\n",
    "    # print(f'Test accuracy for y using {x_name}: {score*100:.2f}%')"
   ]
  },
  {
   "cell_type": "code",
   "execution_count": 121,
   "metadata": {},
   "outputs": [
    {
     "name": "stdout",
     "output_type": "stream",
     "text": [
      "Cross-validation scores for y using X_questions: [0.85106383 0.82978723 0.84042553 0.83870968 0.84946237]\n",
      "mean:  0.8419, std_deviation:  0.0077, variance:  0.0001\n",
      "\n",
      "Cross-validation scores for y using X_drugs: [0.85106383 0.84042553 0.84042553 0.84946237 0.84946237]\n",
      "mean:  0.8462, std_deviation:  0.0047, variance:  0.0000\n",
      "\n",
      "Cross-validation scores for y using X_questions and X_drugs: [0.85106383 0.84042553 0.81914894 0.83870968 0.84946237]\n",
      "mean:  0.8398, std_deviation:  0.0114, variance:  0.0001\n",
      "\n"
     ]
    }
   ],
   "source": [
    "trainReferenceMLP(X_questions, 'X_questions', y)\n",
    "trainReferenceMLP(X_drugs, 'X_drugs', y)\n",
    "trainReferenceMLP(X, 'X_questions and X_drugs', y)"
   ]
  },
  {
   "cell_type": "code",
   "execution_count": 122,
   "metadata": {},
   "outputs": [],
   "source": [
    "def featureSelection(X, y, k):\n",
    "    X_new = SelectKBest(f_classif, k=k).fit_transform(X, y)\n",
    "    return X_new"
   ]
  },
  {
   "cell_type": "code",
   "execution_count": 123,
   "metadata": {},
   "outputs": [],
   "source": [
    "X_questions_selected = featureSelection(X_questions, y, 1)\n",
    "X_drugs_selected = featureSelection(X_drugs, y, 1)\n",
    "X_selected = featureSelection(X, y, 1)\n",
    "\n",
    "# trainReferenceMLP(X_questions_selected, 'X_questions_selected', y)\n",
    "# trainReferenceMLP(X_drugs_selected, 'X_drugs_selected', y)\n",
    "# trainReferenceMLP(X_selected, 'X_questions_selected and X_drugs_selected', y)"
   ]
  }
 ],
 "metadata": {
  "kernelspec": {
   "display_name": "Python 3",
   "language": "python",
   "name": "python3"
  },
  "language_info": {
   "codemirror_mode": {
    "name": "ipython",
    "version": 3
   },
   "file_extension": ".py",
   "mimetype": "text/x-python",
   "name": "python",
   "nbconvert_exporter": "python",
   "pygments_lexer": "ipython3",
   "version": "3.10.6"
  },
  "orig_nbformat": 4
 },
 "nbformat": 4,
 "nbformat_minor": 2
}
