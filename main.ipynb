{
 "cells": [
  {
   "cell_type": "code",
   "execution_count": 2,
   "metadata": {},
   "outputs": [],
   "source": [
    "import pandas as pd\n",
    "from sklearn.model_selection import train_test_split\n",
    "from sklearn.preprocessing import LabelEncoder\n",
    "from sklearn.neural_network import MLPClassifier\n",
    "from sklearn.impute import SimpleImputer\n",
    "import numpy as np\n",
    "from sklearn.metrics import accuracy_score"
   ]
  },
  {
   "attachments": {},
   "cell_type": "markdown",
   "metadata": {},
   "source": [
    "Defining the features"
   ]
  },
  {
   "cell_type": "code",
   "execution_count": 3,
   "metadata": {},
   "outputs": [
    {
     "name": "stdout",
     "output_type": "stream",
     "text": [
      "(625, 179)\n",
      "(625, 153)\n",
      "(625, 332)\n"
     ]
    }
   ],
   "source": [
    "data = pd.read_csv('data.csv')\n",
    "\n",
    "X_questions = data.iloc[:, 2:182]\n",
    "X_questions = X_questions.drop('date_visit', axis=1)\n",
    "\n",
    "X_drugs = data.iloc[:, 185:]\n",
    "\n",
    "X = np.concatenate((X_questions, X_drugs), axis=1)\n",
    "X = pd.DataFrame(X)\n",
    "\n",
    "print(X_questions.shape)\n",
    "print(X_drugs.shape)\n",
    "print(X.shape)"
   ]
  },
  {
   "attachments": {},
   "cell_type": "markdown",
   "metadata": {},
   "source": [
    "Defining the target"
   ]
  },
  {
   "cell_type": "code",
   "execution_count": 36,
   "metadata": {},
   "outputs": [
    {
     "name": "stdout",
     "output_type": "stream",
     "text": [
      "The percentage of ones inside y_gic is 28.96%\n",
      "The percentage of ones inside y_vas30 is 43.84%\n",
      "The percentage of ones inside y_vas50 is 35.84%\n",
      "\n",
      "The percentage of ones inside y_perceived is 43.84%\n",
      "The percentage of ones inside y is 15.04%\n"
     ]
    }
   ],
   "source": [
    "Y = data.iloc[:, 182:185]\n",
    "\n",
    "y_vas30 = Y.iloc[:, 0:1].values.ravel()\n",
    "y_vas50 = Y.iloc[:, 1:2].values.ravel()\n",
    "y_gic = Y.iloc[:, 2:3].values.ravel()\n",
    "\n",
    "y_perceived = np.logical_or(y_vas30, y_vas50) # Perceived improvement by the patient is defined as either VAS30 or VAS50\n",
    "\n",
    "# The target is defined as the intersection of perceived improvement and GIC,\n",
    "# this is because the patient must perceive improvement and the doctor must agree\n",
    "y = np.logical_and(y_perceived, y_gic)\n",
    "\n",
    "print(f\"The percentage of ones inside y_gic is {(np.sum(y_gic)/y_gic.shape[0])*100:.2f}%\")\n",
    "print(f\"The percentage of ones inside y_vas30 is {(np.sum(y_vas30)/y_vas30.shape[0])*100:.2f}%\")\n",
    "print(f\"The percentage of ones inside y_vas50 is {(np.sum(y_vas50)/y_vas50.shape[0])*100:.2f}%\")\n",
    "print()\n",
    "print(f\"The percentage of ones inside y_perceived is {(np.sum(y_perceived)/y_perceived.shape[0])*100:.2f}%\")\n",
    "print(f\"The percentage of ones inside y is {(np.sum(y)/y.shape[0])*100:.2f}%\")\n",
    "# Faz sentido a porcentagem de 1's ser baixa em y, pois como dito em nossa reunião a maior parte\n",
    "# dos pacientes que sofrem com dor crônica não apresentam melhora.\n"
   ]
  },
  {
   "cell_type": "code",
   "execution_count": 38,
   "metadata": {},
   "outputs": [
    {
     "name": "stdout",
     "output_type": "stream",
     "text": [
      "The similarity percentage between y_gic and y_vas50 is 60.16%\n",
      "The similarity percentage between y_gic and y_vas30 is 57.28%\n",
      "The similarity percentage between y_gic and y_perceived is 57.28%\n"
     ]
    }
   ],
   "source": [
    "similarity_vas50 = accuracy_score(y_gic, y_vas50) # y_gic is 'true', how similar is y_vas50 to it?\n",
    "similarity_vas50 *= 100\n",
    "print(f\"The similarity percentage between y_gic and y_vas50 is {similarity_vas50:.2f}%\")\n",
    "\n",
    "similarity_vas30 = accuracy_score(y_gic, y_vas30) # y_gic is 'true', how similar is y_vas30 to it?\n",
    "similarity_vas30 *= 100\n",
    "print(f\"The similarity percentage between y_gic and y_vas30 is {similarity_vas30:.2f}%\")\n",
    "\n",
    "similarity_perceived = accuracy_score(y_gic, y_perceived) # y_gic is 'true', how similar is y_perceived to it?\n",
    "similarity_perceived *= 100\n",
    "print(f\"The similarity percentage between y_gic and y_perceived is {similarity_perceived:.2f}%\")"
   ]
  },
  {
   "cell_type": "code",
   "execution_count": 41,
   "metadata": {},
   "outputs": [
    {
     "name": "stdout",
     "output_type": "stream",
     "text": [
      "The similarity percentage between y and y_gic is 86.08%\n",
      "The similarity percentage between y and y_vas50 is 74.08%\n",
      "The similarity percentage between y and y_vas30 is 71.20%\n",
      "The similarity percentage between y and y_perceived is 71.20%\n"
     ]
    }
   ],
   "source": [
    "similarity_gic = accuracy_score(y, y_gic) # y is 'true', how similar is y_gic to it?\n",
    "similarity_gic *= 100\n",
    "print(f\"The similarity percentage between y and y_gic is {similarity_gic:.2f}%\")\n",
    "\n",
    "similarity_vas50 = accuracy_score(y, y_vas50) # y is 'true', how similar is y_vas50 to it?\n",
    "similarity_vas50 *= 100\n",
    "print(f\"The similarity percentage between y and y_vas50 is {similarity_vas50:.2f}%\")\n",
    "\n",
    "similarity_vas30 = accuracy_score(y, y_vas30) # y is 'true', how similar is y_vas30 to it?\n",
    "similarity_vas30 *= 100\n",
    "print(f\"The similarity percentage between y and y_vas30 is {similarity_vas30:.2f}%\")\n",
    "\n",
    "similarity_perceived = accuracy_score(y, y_perceived) # y is 'true', how similar is y_perceived to it?\n",
    "similarity_perceived *= 100\n",
    "print(f\"The similarity percentage between y and y_perceived is {similarity_perceived:.2f}%\")"
   ]
  },
  {
   "attachments": {},
   "cell_type": "markdown",
   "metadata": {},
   "source": [
    "Encoding the Boolean variables"
   ]
  },
  {
   "cell_type": "code",
   "execution_count": 5,
   "metadata": {},
   "outputs": [],
   "source": [
    "le = LabelEncoder()\n",
    "for col in X_questions.columns:\n",
    "    if X_questions[col].dtype == 'bool':\n",
    "        X_questions[col] = le.fit_transform(X_questions[col])\n",
    "\n",
    "for col in X_drugs.columns:\n",
    "    if X_drugs[col].dtype == 'bool':\n",
    "        X_drugs[col] = le.fit_transform(X_drugs[col])\n",
    "\n",
    "for col in X.columns:\n",
    "    if X[col].dtype == 'bool':\n",
    "        X[col] = le.fit_transform(X[col])"
   ]
  },
  {
   "attachments": {},
   "cell_type": "markdown",
   "metadata": {},
   "source": [
    "Imputing missing values"
   ]
  },
  {
   "cell_type": "code",
   "execution_count": 6,
   "metadata": {},
   "outputs": [],
   "source": [
    "imp = SimpleImputer(strategy='mean')\n",
    "imp.fit(X_questions)\n",
    "X_questions = imp.transform(X_questions)\n",
    "\n",
    "imp = SimpleImputer(strategy='mean')\n",
    "imp.fit(X_drugs)\n",
    "X_drugs = imp.transform(X_drugs)\n",
    "\n",
    "imp = SimpleImputer(strategy='mean')\n",
    "imp.fit(X)\n",
    "X = imp.transform(X)"
   ]
  },
  {
   "cell_type": "code",
   "execution_count": 46,
   "metadata": {},
   "outputs": [],
   "source": [
    "def trainReferenceMLP(X, x_name, y):\n",
    "    X_train, X_test, y_train, y_test = train_test_split(X, y, test_size=0.25, random_state=42)\n",
    "\n",
    "    # 153 is the minimum number of features\n",
    "    clf = MLPClassifier(hidden_layer_sizes=(153,), solver='sgd', learning_rate_init=0.001,\n",
    "                        max_iter=400, random_state=42, verbose=False)\n",
    "    clf.fit(X_train, y_train)\n",
    "\n",
    "    score = clf.score(X_test, y_test)\n",
    "    print(f'Test accuracy for y using {x_name}: {score*100:.2f}%')"
   ]
  },
  {
   "cell_type": "code",
   "execution_count": 47,
   "metadata": {},
   "outputs": [
    {
     "name": "stdout",
     "output_type": "stream",
     "text": [
      "Test accuracy for y using X_questions: 85.99%\n",
      "Test accuracy for y using X_drugs: 85.99%\n",
      "Test accuracy for y using X_questions and X_drugs: 85.99%\n"
     ]
    }
   ],
   "source": [
    "trainReferenceMLP(X_questions, 'X_questions', y)\n",
    "trainReferenceMLP(X_drugs, 'X_drugs', y)\n",
    "trainReferenceMLP(X, 'X_questions and X_drugs', y)"
   ]
  }
 ],
 "metadata": {
  "kernelspec": {
   "display_name": "Python 3",
   "language": "python",
   "name": "python3"
  },
  "language_info": {
   "codemirror_mode": {
    "name": "ipython",
    "version": 3
   },
   "file_extension": ".py",
   "mimetype": "text/x-python",
   "name": "python",
   "nbconvert_exporter": "python",
   "pygments_lexer": "ipython3",
   "version": "3.11.0"
  },
  "orig_nbformat": 4
 },
 "nbformat": 4,
 "nbformat_minor": 2
}
